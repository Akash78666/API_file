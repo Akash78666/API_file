{
 "cells": [
  {
   "cell_type": "markdown",
   "id": "fa842a16-8472-4984-b199-a7671d8cd231",
   "metadata": {},
   "source": [
    "What is an API? Give an example, where an API is used in real life.?\n",
    "Ans:-APIs are used in web applications to connect user-facing front ends with critical back-end functionality and data.\n",
    "Example:-APIs are used by automakers such as Tesla to provide software upgrades."
   ]
  },
  {
   "cell_type": "code",
   "execution_count": null,
   "id": "776e929b-58e2-4c66-9476-8a9582141135",
   "metadata": {},
   "outputs": [],
   "source": [
    "Give advantages and disadvantages of using API.\n",
    "Ans:- advantage\n",
    "               Efficiency: When you have content that is automatically published and made available on different channels simultaneously, APIs allow for more efficient data distribution\n",
    "     Disadvantages\n",
    "                 As a single point of entry, an API is a gateway and can become a hacker's primary target. Once the API is compromised, all other applications and systems become vulnerable.\n",
    "            "
   ]
  },
  {
   "cell_type": "code",
   "execution_count": null,
   "id": "c7cc763b-ace2-459a-a31f-2363cd93158b",
   "metadata": {},
   "outputs": [],
   "source": [
    "What is a Web API? Differentiate between API and Web API.\n",
    "Ans:-API stands for Application Programming Interface.\n",
    "\n",
    "A Web API is an application programming interface for the Web.\n",
    "\n",
    "A Browser API can extend the functionality of a web browser.\n",
    "\n",
    "A Server API can extend the functionality of a web server.\n",
    "                   \n",
    "    Differentiate between API and Web API.\n",
    "   \n",
    "   APIs and Web Services: Similar, but Not Identical\n",
    "Both APIs and web services are technologies that enable the transfer of data between separate software applications. API is an interface that exposes an application's data to outside software, whereas web applications are one type of API with stricter requirements\n",
    "    "
   ]
  },
  {
   "cell_type": "code",
   "execution_count": null,
   "id": "c9a2e72d-4cf5-4d05-bbfb-f74c55c971a5",
   "metadata": {},
   "outputs": [],
   "source": [
    " Explain REST and SOAP Architecture. Mention shortcomings of SOAP?\n",
    "Ans:-REST is an interface that two computer systems use to exchange information securely over the internet.\n",
    " simple object access protocol application programming interface, is a standard messaging protocol that operating systems use to communicate via Hypertext Transfer Protocol (HTTP) and Extensible Markup Language (XML).\n",
    "    "
   ]
  },
  {
   "cell_type": "code",
   "execution_count": null,
   "id": "a5a6e743-9521-44fb-a952-5584ac1fba0c",
   "metadata": {},
   "outputs": [],
   "source": [
    "Differentiate between REST and SOAP.\n",
    "Ans:-P and REST are given below:\n",
    "\n",
    "No.\tSOAP\tREST\n",
    "1)\tSOAP is a protocol.\tREST is an architectural style.\n",
    "2)\tSOAP stands for Simple Object Access Protocol.\tREST stands for REpresentational State Transfer.\n",
    "3)\tSOAP can't use REST because it is a protocol.\tREST can use SOAP web services because it is a concept and can use any protocol like HTTP, SOAP.\n",
    "4)\tSOAP uses services interfaces to expose the business logic.\tREST uses URI to expose business logic.\n",
    "5)\tJAX-WS is the java API for SOAP web services.\tJAX-RS is the java API for RESTful web services.\n",
    "6)\tSOAP defines standards to be strictly followed.\tREST does not define too much standards like SOAP.\n",
    "7)\tSOAP requires more bandwidth and resource than REST.\tREST requires less bandwidth and resource than SOAP.\n",
    "8)\tSOAP defines its own security.\tRESTful web services inherits security measures from the underlying transport.\n",
    "9)\tSOAP permits XML data format only.\tREST permits different data format such as Plain text, HTML, XML, JSON etc.\n",
    "10)\tSOAP is less preferred than REST.\tREST more preferred than SOAP.\n"
   ]
  }
 ],
 "metadata": {
  "kernelspec": {
   "display_name": "Python 3 (ipykernel)",
   "language": "python",
   "name": "python3"
  },
  "language_info": {
   "codemirror_mode": {
    "name": "ipython",
    "version": 3
   },
   "file_extension": ".py",
   "mimetype": "text/x-python",
   "name": "python",
   "nbconvert_exporter": "python",
   "pygments_lexer": "ipython3",
   "version": "3.10.8"
  }
 },
 "nbformat": 4,
 "nbformat_minor": 5
}
